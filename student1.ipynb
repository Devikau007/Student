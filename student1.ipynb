    import numpy as np
    import pandas as pd
    from time import time
    from sklearn.metrics import f1_score
    student_data = pd.read_csv(\"student-data.csv\")
    print \"Student data read successfully!\"
   
    n_students = None
    n_features = None   
    n_passed = None
    n_failed = None
    grad_rate = None
    print \"Total number of students: {}\".format(n_students)
    print \"Number of features: {}\".format(n_features)
    print \"Number of students who passed: {}\".format(n_passed)
    print \"Number of students who failed: {}\".format(n_failed)
    print \"Graduation rate of the class: {:.2f}%\".format(grad_rate)
   

    feature_cols = list(student_data.columns[:-1])
    target_col = student_data.columns[-1]
    print \"Feature columns:\\n{}\".format(feature_cols)
    print \"\\nTarget column: {}\".format(target_col)
    X_all = student_data[feature_cols]
    y_all = student_data[target_col]
**    print \"\\nFeature values:\"
    print X_all.head()
 
    def preprocess_features(X):
       output = pd.DataFrame(index = X.index)
       for col, col_data in X.iteritems():
           if col_data.dtype == object:
              col_data = col_data.replace(['yes', 'no'], [1, 0])
            if col_data.dtype == object:
               col_data = pd.get_dummies(col_data, prefix = col)  
           output = output.join(col_data)
       return output
    X_all = preprocess_features(X_all)
    print \"Processed feature columns ({} total features):\\n{}\".format(len(X_all.columns), list(X_all.columns))

    num_train = None
    num_test = X_all.shape[0] - num_train
    X_train = None
    X_test = None
    y_train = None
    y_test = None
    print \"Training set has {} samples.\".format(X_train.shape[0])
    print \"Testing set has {} samples.\".format(X_test.shape[0])
 
    def train_classifier(clf, X_train, y_train):
        start = time()
        clf.fit(X_train, y_train)
        end = time()
        print \"Trained model in {:.4f} seconds\".format(end - start)

    def predict_labels(clf, features, target):
        # Start the clock, make predictions, then stop the clock
        start = time()
        y_pred = clf.predict(features)
        end = time()
        print \"Made predictions in {:.4f} seconds.\".format(end - start)
        return f1_score(target.values, y_pred, pos_label='yes')

    def train_predict(clf, X_train, y_train, X_test, y_test):
        print \"Training a {} using a training set size of {}. . .\".format(clf.__class__.__name__, len(X_train))
        train_classifier(clf, X_train, y_train)
        print \"F1 score for training set: {:.4f}.\".format(predict_labels(clf, X_train, y_train))
        print \"F1 score for test set: {:.4f}.\".format(predict_labels(clf, X_test, y_test))

    clf_A = None
    clf_B = None
    clf_C = None

    X_train_100 = None
    y_train_100 = None

    X_train_200 = None
    y_train_200 = None

    X_train_300 = None
    y_train_300 = None

    parameters = None
    clf = None

    f1_scorer = None

    grid_obj = None

    grid_obj = None

    clf = grid_obj.best_estimator_

    print \"Tuned model has a training F1 score of {:.4f}.\".format(predict_labels(clf, X_train, y_train))
    print \"Tuned model has a testing F1 score of {:.4f}.\".format(predict_labels(clf, X_test, y_test))
  
 },
 "nbformat": 4,
 "nbformat_minor": 0
}
